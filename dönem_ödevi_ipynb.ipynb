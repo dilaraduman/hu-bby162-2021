{
  "nbformat": 4,
  "nbformat_minor": 0,
  "metadata": {
    "colab": {
      "name": "dönem ödevi. ipynb",
      "provenance": [],
      "mount_file_id": "1EfzpuFkEWCf6Kd-iAscuaFoMj1OIdgdA",
      "authorship_tag": "ABX9TyNbYrsBZsTHG76Bxbn/eJhd",
      "include_colab_link": true
    },
    "kernelspec": {
      "name": "python3",
      "display_name": "Python 3"
    },
    "language_info": {
      "name": "python"
    }
  },
  "cells": [
    {
      "cell_type": "markdown",
      "metadata": {
        "id": "view-in-github",
        "colab_type": "text"
      },
      "source": [
        "<a href=\"https://colab.research.google.com/github/dilaraduman/hu-bby162-2021/blob/main/d%C3%B6nem_%C3%B6devi_ipynb.ipynb\" target=\"_parent\"><img src=\"https://colab.research.google.com/assets/colab-badge.svg\" alt=\"Open In Colab\"/></a>"
      ]
    },
    {
      "cell_type": "markdown",
      "metadata": {
        "id": "4IyRghLyI0Yg"
      },
      "source": [
        ""
      ]
    },
    {
      "cell_type": "code",
      "metadata": {
        "id": "yFzSNQhaDQiz",
        "colab": {
          "base_uri": "https://localhost:8080/"
        },
        "outputId": "cea66ae7-51c8-405f-d3fb-9f653c1813e3"
      },
      "source": [
        "#Google Drive Bağlantısı\n",
        "'''\n",
        "from google.colab import drive\n",
        "drive.mount('/gdrive')\n",
        "'''\n",
        "\n",
        "dosya = \"/content/drive/MyDrive/Colab Notebooks/adres.txt\"\n",
        "\n",
        "f = open(dosya, \"r\") \n",
        "\n",
        "for line in f.readlines():\n",
        "    print(line)\n",
        "\n",
        "f.close()\n"
      ],
      "execution_count": 6,
      "outputs": [
        {
          "output_type": "stream",
          "text": [
            "Dilara Duman - dumandilara19@hotmail.com\n"
          ],
          "name": "stdout"
        }
      ]
    },
    {
      "cell_type": "code",
      "metadata": {
        "colab": {
          "base_uri": "https://localhost:8080/"
        },
        "id": "ednWb3utLeHI",
        "outputId": "993443a8-4dc9-4c22-ab13-0dafdb8e3a45"
      },
      "source": [
        "#Google Drive Bağlantısı\n",
        "'''\n",
        "from google.colab import drive\n",
        "drive.mount('/gdrive')\n",
        " \n",
        "dosya = \"/gdrive/My Drive/Colab Notebooks/BBY162 - Programlama ve Algoritmalar/cikti.txt\"\n",
        "\n",
        "f = open(dosya, 'w') # Mevcut veriye ek veri yazılması için parametre: 'a'\n",
        "f.write(\"test\") # Her yeni verinin bir alt satıra yazdırılması \"test\\n\"\n",
        "f.close()\n",
        "'''\n",
        "f = open(dosya, 'a') # Mevcut veriye ek veri yazılması için parametre: 'a'\n",
        "\n",
        "bilgi = input(\"Kaydedilecek bilgi: \")\n",
        "\n",
        "f.write(bilgi+\"\\n\") # Her yeni verinin bir alt satıra yazdırılması \"test\\n\"\n",
        "\n",
        "f.close()\n",
        "\n",
        "f = open(dosya, 'r') # Mevcut veriye ek veri yazılması için parametre: 'a'\n",
        "\n",
        "for line in f.readlines():\n",
        "    print(line)\n",
        "f.close()"
      ],
      "execution_count": 10,
      "outputs": [
        {
          "output_type": "stream",
          "text": [
            "Kaydedilecek bilgi: Dilara Duman dumandilara19@hotmail.com\n",
            "Dilara Duman dumandilara19@hotmail.com\n",
            "\n",
            "Dilara Duman dumandilara19@hotmail.com\n",
            "\n"
          ],
          "name": "stdout"
        }
      ]
    }
  ]
}