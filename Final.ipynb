{
  "nbformat": 4,
  "nbformat_minor": 0,
  "metadata": {
    "colab": {
      "name": "Final",
      "provenance": [],
      "collapsed_sections": [],
      "mount_file_id": "1AiN63r0NF0DtHAQPnMLNByVrXc6QW7tM",
      "authorship_tag": "ABX9TyNUJeADFtlbfqL750FY5kdH",
      "include_colab_link": true
    },
    "kernelspec": {
      "name": "python3",
      "display_name": "Python 3"
    },
    "language_info": {
      "name": "python"
    }
  },
  "cells": [
    {
      "cell_type": "markdown",
      "metadata": {
        "id": "view-in-github",
        "colab_type": "text"
      },
      "source": [
        "<a href=\"https://colab.research.google.com/github/dilaraduman/hu-bby162-2021/blob/main/Final.ipynb\" target=\"_parent\"><img src=\"https://colab.research.google.com/assets/colab-badge.svg\" alt=\"Open In Colab\"/></a>"
      ]
    },
    {
      "cell_type": "markdown",
      "metadata": {
        "id": "acPwGjN1EcuS"
      },
      "source": [
        "# **FİNAL PROJEM**"
      ]
    },
    {
      "cell_type": "code",
      "metadata": {
        "id": "hgYRdzuUEkcu",
        "colab": {
          "base_uri": "https://localhost:8080/"
        },
        "outputId": "6a60d7df-4123-461a-ccf3-0ebf4c0e2c80"
      },
      "source": [
        "#Kütüphane Otomasyon Sistemi Oluşturma\n",
        "\n",
        "print(\"Kütüphane Otomasyon Sistemine Hoşgeldiniz !\")\n",
        "dosya = \"/content/drive/MyDrive/Colab Notebooks/Final.txt\"\n",
        "\n",
        "def eserleriListele():\n",
        "  acılanDosya= open(dosya, \"r\") \n",
        "  for line in acılanDosya.readlines():\n",
        "    print(line)\n",
        "  acılanDosya.close()\n",
        "\n",
        "def eserEkle():\n",
        "  eserAdi = input(\"Eser adı giriniz: \") \n",
        "  yazarAdi = input(\"Yazar adı giriniz: \")\n",
        "  yayinEvi = input(\"Yayınevi adını giriniz: \")\n",
        "  basımTarihi = input(\"Basım tarihini giriniz: \")\n",
        "  ISBN = input(\"ISBN numarasını giriniz: \")\n",
        "  f = open(dosya, 'a')\n",
        "  f.write(eserAdi + \" , \" + yazarAdi + \" , \" + yayinEvi + \" , \"  + basımTarihi + \" , \"  + ISBN + '\\n')\n",
        "  f.close()\n",
        "  print(\"Eser Ekleme İşlemi Başarıyla Gerçekleştirildi!\")\n",
        " \n",
        "\n",
        "islemSecimi = [\"Listele\" , \"Ekle\" , \"Sonlandır\"]\n",
        "while islemSecimi:\n",
        "  secilenİslem = input(\"Katalogdaki eser listesini görüntülemek için 'Listele' yazınız. \\n\"\n",
        "      \"Yeni eser eklemek için 'Ekle' yazınız.\\n\"     \n",
        "      \"Sistemden çıkmak için 'Sonlandır' yazınız.\\n\"\n",
        "      \"Yapmak istediğiniz işlem için anahtar  kelimeyi yazınız: \")\n",
        "  if secilenİslem == islemSecimi[0]:\n",
        "    eserleriListele()\n",
        "  elif secilenİslem == islemSecimi[1]:\n",
        "    print(\"Kataloğa yeni bir kayıt girmeniz gerekmektedir: \")\n",
        "    eserEkle()\n",
        "  elif secilenİslem == islemSecimi[2]:\n",
        "    print(\"Sonlandırma işlemi tamamlandı.\")\n",
        "    break\n",
        "\n",
        "\n",
        "\n",
        "\n"
      ],
      "execution_count": 2,
      "outputs": [
        {
          "output_type": "stream",
          "text": [
            "Kütüphane Otomasyon Sistemine Hoşgeldiniz !\n",
            "Katalogdaki eser listesini görüntülemek için 'Listele' yazınız. \n",
            "Yeni eser eklemek için 'Ekle' yazınız.\n",
            "Sistemden çıkmak için 'Sonlandır' yazınız.\n",
            "Yapmak istediğiniz işlem için anahtar  kelimeyi yazınız: Listele\n",
            "İçimizdeki Şeytan, Sabahattin Ali, Yapıkredi Yayınları, 2003, 9789753638036\n",
            "\n",
            "1984, George Orwell, Filozof Yayınları, 2021, 9786057487124\n",
            "\n",
            "Şeker Portakalı, Jose Mauro de Vasconcelos, Can Yayınları, 2009, 9789750738609\n",
            "\n",
            "Simyacı, Paulo Coelho, Can Yayınları, 2003, 9789750726439\n",
            "\n",
            "Beyaz Gemi, Cengiz Aytmatov, Ötüken Yayınları, 2006, 9789754370430\n",
            "Katalogdaki eser listesini görüntülemek için 'Listele' yazınız. \n",
            "Yeni eser eklemek için 'Ekle' yazınız.\n",
            "Sistemden çıkmak için 'Sonlandır' yazınız.\n",
            "Yapmak istediğiniz işlem için anahtar  kelimeyi yazınız: Ekle\n",
            "Kataloğa yeni bir kayıt girmeniz gerekmektedir: \n",
            "Eser adı giriniz: Kendine Ait Bir Oda\n",
            "Yazar adı giriniz: Virginia Woolf\n",
            "Yayınevi adını giriniz: İthaki Yayınları\n",
            "Basım tarihini giriniz: 2003\n",
            "ISBN numarasını giriniz:  9786053755357\n",
            "Eser Ekleme İşlemi Başarıyla Gerçekleştirildi!\n",
            "Katalogdaki eser listesini görüntülemek için 'Listele' yazınız. \n",
            "Yeni eser eklemek için 'Ekle' yazınız.\n",
            "Sistemden çıkmak için 'Sonlandır' yazınız.\n",
            "Yapmak istediğiniz işlem için anahtar  kelimeyi yazınız: Ekle\n",
            "Kataloğa yeni bir kayıt girmeniz gerekmektedir: \n",
            "Eser adı giriniz: Kardeşimin Hikayesi \n",
            "Yazar adı giriniz: Zülfü Livaneli\n",
            "Yayınevi adını giriniz: Doğan Kitap\n",
            "Basım tarihini giriniz: 2004\n",
            "ISBN numarasını giriniz: 9786050914443\n",
            "Eser Ekleme İşlemi Başarıyla Gerçekleştirildi!\n",
            "Katalogdaki eser listesini görüntülemek için 'Listele' yazınız. \n",
            "Yeni eser eklemek için 'Ekle' yazınız.\n",
            "Sistemden çıkmak için 'Sonlandır' yazınız.\n",
            "Yapmak istediğiniz işlem için anahtar  kelimeyi yazınız: Listele\n",
            "İçimizdeki Şeytan, Sabahattin Ali, Yapıkredi Yayınları, 2003, 9789753638036\n",
            "\n",
            "1984, George Orwell, Filozof Yayınları, 2021, 9786057487124\n",
            "\n",
            "Şeker Portakalı, Jose Mauro de Vasconcelos, Can Yayınları, 2009, 9789750738609\n",
            "\n",
            "Simyacı, Paulo Coelho, Can Yayınları, 2003, 9789750726439\n",
            "\n",
            "Beyaz Gemi, Cengiz Aytmatov, Ötüken Yayınları, 2006, 9789754370430Kendine Ait Bir Oda , Virginia Woolf , İthaki Yayınları , 2003 ,  9786053755357\n",
            "\n",
            "Kardeşimin Hikayesi  , Zülfü Livaneli , Doğan Kitap , 2004 , 9786050914443\n",
            "\n",
            "Katalogdaki eser listesini görüntülemek için 'Listele' yazınız. \n",
            "Yeni eser eklemek için 'Ekle' yazınız.\n",
            "Sistemden çıkmak için 'Sonlandır' yazınız.\n",
            "Yapmak istediğiniz işlem için anahtar  kelimeyi yazınız: Sonlandır\n",
            "Sonlandırma işlemi tamamlandı.\n"
          ],
          "name": "stdout"
        }
      ]
    }
  ]
}